{
 "cells": [
  {
   "attachments": {},
   "cell_type": "markdown",
   "metadata": {},
   "source": [
    "# Lab 8: Evolutionary computation\n",
    "\n",
    "### Consider the following example:\n",
    "\n",
    "Determine the minimum of the function $f(x)= x_1^2+...+x_n^2$ with $x_i \\in [-5.12, 5.12]$, $i \\in \\overline{(1, n)}$\n",
    "\n",
    "We have an example of steady state genetic algorithm with:  representation an array of real numbers; 100 individuals; crossover $$child = \\alpha \\cdot (parent1 - parent2) + parent2 ;$$ mutation - reinitialise on a random position the individual's value."
   ]
  },
  {
   "cell_type": "code",
   "execution_count": 1,
   "metadata": {},
   "outputs": [
    {
     "name": "stdout",
     "output_type": "stream",
     "text": [
      "Result: The detected minimum point after 10000 iterations is f(-0.00 0.00) = 0.00\n"
     ]
    }
   ],
   "source": [
    "\n",
    "\n",
    "from random import randint, random\n",
    "from operator import add\n",
    "from math import cos, pi\n",
    "\n",
    "\n",
    "def individual(length, vmin, vmax):\n",
    "    '''\n",
    "    Create a member of the population - an individual\n",
    "\n",
    "    length: the number of genes (components)\n",
    "    vmin: the minimum possible value \n",
    "    vmax: the maximum possible value \n",
    "    '''\n",
    "    return [ (random()*(vmax-vmin)+vmin) for x in range(length) ]\n",
    "    \n",
    "def population(count, length, vmin, vmax):\n",
    "    \"\"\"\n",
    "    Create a number of individuals (i.e. a population).\n",
    "\n",
    "    count: the number of individuals in the population\n",
    "    length: the number of values per individual\n",
    "    vmin: the minimum possible value \n",
    "    vmax: the maximum possible value \n",
    "    \"\"\"\n",
    "    return [ individual(length, vmin, vmax) for x in range(count) ]\n",
    "\n",
    "def fitness(individual):\n",
    "    \"\"\"\n",
    "    Determine the fitness of an individual. Lower is better.(min problem)\n",
    "    For this problem we have the Rastrigin function\n",
    "    \n",
    "    individual: the individual to evaluate\n",
    "    \"\"\"\n",
    "    n=len(individual)\n",
    "    f=0;\n",
    "    for i in range(n):\n",
    "        f=f+individual[i]*individual[i]\n",
    "    return f\n",
    "    \n",
    "def mutate(individual, pM, vmin, vmax): \n",
    "    '''\n",
    "    Performs a mutation on an individual with the probability of pM.\n",
    "    If the event will take place, at a random position a new value will be\n",
    "    generated in the interval [vmin, vmax]\n",
    "\n",
    "    individual:the individual to be mutated\n",
    "    pM: the probability the mutation to occure\n",
    "    vmin: the minimum possible value \n",
    "    vmax: the maximum possible value\n",
    "    '''\n",
    "    if pM > random():\n",
    "            p = randint(0, len(individual)-1)\n",
    "            individual[p] = random()*(vmax-vmin)+vmin\n",
    "    return individual\n",
    "    \n",
    "def crossover(parent1, parent2):\n",
    "    '''\n",
    "    crossover between 2 parents\n",
    "    '''\n",
    "    child=[]\n",
    "    alpha=random()\n",
    "    for x in range(len(parent1)):\n",
    "        child.append(alpha*(parent1[x]-parent2[x])+parent2[x])\n",
    "    return child\n",
    "\n",
    "def iteration(pop, pM, vmin, vmax):\n",
    "    '''\n",
    "    an iteration\n",
    "\n",
    "    pop: the current population\n",
    "    pM: the probability the mutation to occure\n",
    "    vmin: the minimum possible value \n",
    "    vmax: the maximum possible value\n",
    "    '''\n",
    "    i1=randint(0,len(pop)-1)\n",
    "    i2=randint(0,len(pop)-1)\n",
    "    if (i1!=i2):\n",
    "        c=crossover(pop[i1],pop[i2])\n",
    "        c=mutate(c, pM, vmin, vmax)\n",
    "        f1=fitness(pop[i1])\n",
    "        f2=fitness(pop[i2])\n",
    "        '''\n",
    "        the repeated evaluation of the parents can be avoided\n",
    "        if  next to the values stored in the individuals we \n",
    "        keep also their fitnesses \n",
    "        '''\n",
    "        fc=fitness(c)\n",
    "        if(f1>f2) and (f1>fc):\n",
    "            pop[i1]=c\n",
    "        if(f2>f1) and (f2>fc):\n",
    "            pop[i2]=c\n",
    "    return pop\n",
    "\n",
    "def main(noIteratii=10000):\n",
    "    #PARAMETERS:\n",
    "    \n",
    "    #population size\n",
    "    dimPopulation = 100\n",
    "    #individual size\n",
    "    dimIndividual = 2\n",
    "    #the boundries of the search interval\n",
    "    vmin = -5.12\n",
    "    vmax = 5.12\n",
    "    #the mutation probability\n",
    "    pM=0.01\n",
    "    \n",
    "    P = population(dimPopulation, dimIndividual, vmin, vmax)\n",
    "    for i in range(noIteratii):\n",
    "        P = iteration(P, pM, vmin, vmax)\n",
    "\n",
    "    #print the best individual\n",
    "    graded = [ (fitness(x), x) for x in P]\n",
    "    graded =  sorted(graded)\n",
    "    result=graded[0]\n",
    "    fitnessOptim=result[0]\n",
    "    individualOptim=result[1]\n",
    "    print('Result: The detected minimum point after %d iterations is f(%3.2f %3.2f) = %3.2f'% \\\n",
    "          (noIteratii,individualOptim[0],individualOptim[1], fitnessOptim) )\n",
    "        \n",
    "main()"
   ]
  },
  {
   "attachments": {},
   "cell_type": "markdown",
   "metadata": {},
   "source": [
    "Exercise 1:  Construct a similar algorithm to the one provided as an example for the Bukin function N.6 (search the internet for this function).\n"
   ]
  },
  {
   "cell_type": "code",
   "execution_count": 2,
   "metadata": {},
   "outputs": [
    {
     "name": "stdout",
     "output_type": "stream",
     "text": [
      "Result: The detected minimum point after 10000 iterations is f(-9.38, 0.88) = 0.02\n"
     ]
    }
   ],
   "source": [
    "# your code here\n",
    "\n",
    "from random import randint, random\n",
    "from math import sqrt, fabs\n",
    "\n",
    "\n",
    "def individual(length, xmin, xmax, ymin, ymax):\n",
    "    return [(random() * (xmax - xmin) + xmin, random() * (ymax - ymin) + ymin) for _ in range(length)]\n",
    "\n",
    "\n",
    "def population(count, length, xmin, xmax, ymin, ymax):\n",
    "    return [individual(length, xmin, xmax, ymin, ymax) for _ in range(count)]\n",
    "\n",
    "\n",
    "def fitness(individual):\n",
    "    return sum(\n",
    "        100 * sqrt(fabs(y - 0.01 * x ** 2)) + 0.01 * fabs(x + 10)\n",
    "        for x, y in individual\n",
    "    )\n",
    "\n",
    "\n",
    "def mutate(individual, pM, xmin, xmax, ymin, ymax):\n",
    "    if pM > random():\n",
    "        index = randint(0, len(individual) - 1)\n",
    "        x, y = individual[index]\n",
    "        if index == 0:\n",
    "            x = random() * (xmax - xmin) + xmin\n",
    "        else:\n",
    "            y = random() * (ymax - ymin) + ymin\n",
    "        individual[index] = (x, y)\n",
    "    return individual\n",
    "\n",
    "\n",
    "def crossover(parent1, parent2):\n",
    "    alpha = random()\n",
    "    child = [\n",
    "        (\n",
    "            alpha * (parent1[i][0] - parent2[i][0]) + parent2[i][0],\n",
    "            alpha * (parent1[i][1] - parent2[i][1]) + parent2[i][1]\n",
    "        ) for i in range(len(parent1))\n",
    "    ]\n",
    "    return child\n",
    "    \n",
    "\n",
    "def iteration(pop, pM, xmin, xmax, ymin, ymax):\n",
    "    new_population = []\n",
    "    for _ in range(len(pop)):\n",
    "        parent1_index = randint(0, len(pop) - 1)\n",
    "        parent2_index = randint(0, len(pop) - 1)\n",
    "        while parent2_index == parent1_index:  # Ensure distinct parents\n",
    "            parent2_index = randint(0, len(pop) - 1)\n",
    "        \n",
    "        parent1 = pop[parent1_index]\n",
    "        parent2 = pop[parent2_index]\n",
    "        \n",
    "        child = crossover(parent1, parent2)\n",
    "        child = mutate(child, pM, xmin, xmax, ymin, ymax)\n",
    "        new_population.append(child)\n",
    "    \n",
    "    # Select the best individuals to form the next generation\n",
    "    combined_population = pop + new_population\n",
    "    combined_population = sorted([(fitness(x), x) for x in combined_population])\n",
    "    pop = [individual for _, individual in combined_population[:len(pop)]]\n",
    "    \n",
    "    return pop\n",
    "\n",
    "\n",
    "\n",
    "def main(noIterations=10000):\n",
    "    dimPopulation = 100\n",
    "    dimIndividual = 2\n",
    "    xmin = -15\n",
    "    xmax = -5\n",
    "    ymin = -3\n",
    "    ymax = 3\n",
    "    pM = 0.08\n",
    "\n",
    "    P = population(dimPopulation, dimIndividual, xmin, xmax, ymin, ymax)\n",
    "    for i in range(noIterations):\n",
    "        P = iteration(P, pM, xmin, xmax, ymin, ymax)\n",
    "\n",
    "    graded = [(fitness(x), x) for x in P]\n",
    "    graded = sorted(graded)\n",
    "    result = graded[0]\n",
    "    fitnessOptim = result[0]\n",
    "    individualOptim = result[1]\n",
    "    print(\n",
    "        'Result: The detected minimum point after %d iterations is f(%3.2f, %3.2f) = %3.2f'\n",
    "        % (noIterations, individualOptim[0][0], individualOptim[0][1], fitnessOptim)\n",
    "    )\n",
    "\n",
    "\n",
    "main()"
   ]
  },
  {
   "attachments": {},
   "cell_type": "markdown",
   "metadata": {},
   "source": [
    "Consider the knapsack problem:\n",
    "\n",
    "Consider a Knapsack with a total volum equal with $V_{max}$.\n",
    "\n",
    "There are $n$ objects, with values $(p_i)_{n}$ and volumes $(v_i)_n$.\n",
    "\n",
    "Solve this problem using a generationist Genetic Algorithm, with a binary representation.\n",
    "\n",
    "Exercise 2: Initialization\n",
    "Objective: Implement the initialization step of a genetic algorithm."
   ]
  },
  {
   "cell_type": "code",
   "execution_count": 3,
   "metadata": {},
   "outputs": [
    {
     "name": "stdout",
     "output_type": "stream",
     "text": [
      "[[1, 0, 1, 0, 1, 0, 0, 1], [0, 0, 0, 0, 0, 0, 1, 0], [1, 0, 1, 1, 1, 1, 1, 1], [0, 0, 1, 1, 0, 1, 1, 0], [0, 1, 0, 1, 0, 1, 0, 1], [0, 0, 1, 0, 1, 0, 1, 0], [0, 1, 0, 1, 1, 0, 1, 1], [0, 1, 0, 1, 0, 1, 0, 1], [1, 1, 0, 1, 0, 0, 0, 0], [0, 0, 1, 1, 1, 0, 0, 1]]\n"
     ]
    }
   ],
   "source": [
    "import random\n",
    "\n",
    "def initialize_population(population_size, chromosome_length):\n",
    "    # generate random a population with population_size number of individuals\n",
    "    # each individual with the size chromosome_length\n",
    "    # IN:  population_size, chromosome_length\n",
    "    # OUT: population\n",
    "    \n",
    "    # your code here\n",
    "    population = []\n",
    "    for _ in range(population_size):\n",
    "        individual = [random.randint(0, 1) for _ in range(chromosome_length)]\n",
    "        population.append(individual)\n",
    "    return population\n",
    "\n",
    "\n",
    "\n",
    "# Test the initialization step\n",
    "population_size = 10\n",
    "chromosome_length = 8\n",
    "population = initialize_population(population_size, chromosome_length)\n",
    "print(population)\n"
   ]
  },
  {
   "attachments": {},
   "cell_type": "markdown",
   "metadata": {},
   "source": [
    "Exercise 3: Fitness Evaluation\n",
    "\n",
    "Objective: Implement the fitness evaluation step of a genetic algorithm."
   ]
  },
  {
   "cell_type": "code",
   "execution_count": 4,
   "metadata": {},
   "outputs": [
    {
     "name": "stdout",
     "output_type": "stream",
     "text": [
      "[32, 4, 0, 21, 16, 24, 26, 16, 18, 25]\n"
     ]
    }
   ],
   "source": [
    "def evaluate_fitness(population, values, volumes, Vmax):\n",
    "    # evaluate the fitness of each individual in the population\n",
    "    # IN:  population(list): A list of binary strings representing individuals.\n",
    "    # OUT: fitness_scores (list): Fitness scores for each individual.\n",
    "    \n",
    "    # your code here\n",
    "    fitness_scores = []\n",
    "    for individual in population:\n",
    "        total_value = 0\n",
    "        total_volume = 0\n",
    "        for i in range(len(individual)):\n",
    "            if individual[i] == 1:  # If object i is included in the knapsack\n",
    "                total_value += values[i]\n",
    "                total_volume += volumes[i]\n",
    "        # If the total volume of the knapsack exceeds the capacity, penalize the fitness\n",
    "        if total_volume > Vmax:\n",
    "            fitness_scores.append(0)  # Penalize by setting fitness to 0\n",
    "            # Aici la penalizare, e foarte brutal sa pui zero direct\n",
    "            # Varianta mai blanda:\n",
    "            # Sum(x[i]c[i])- p* |Vmax - Sum(x[i]v[i])|\n",
    "        else:\n",
    "            fitness_scores.append(total_value)  # Fitness is the total value\n",
    "\n",
    "    return fitness_scores\n",
    "# Test the fitness evaluation step\n",
    "values = [10, 5, 8, 3, 12, 6, 4, 2]\n",
    "volumes = [2, 1, 3, 2, 4, 1, 2, 1]\n",
    "Vmax = 10\n",
    "fitness_scores = evaluate_fitness(population, values, volumes, Vmax)\n",
    "print(fitness_scores)"
   ]
  },
  {
   "attachments": {},
   "cell_type": "markdown",
   "metadata": {},
   "source": [
    "Exercise 4: Selection\n",
    "\n",
    "Objective: Implement the selection step of a genetic algorithm."
   ]
  },
  {
   "cell_type": "code",
   "execution_count": 5,
   "metadata": {},
   "outputs": [
    {
     "name": "stdout",
     "output_type": "stream",
     "text": [
      "[[0, 0, 1, 0, 1, 0, 1, 0], [1, 0, 1, 0, 1, 0, 0, 1]]\n"
     ]
    }
   ],
   "source": [
    "def select_parents(population, fitness_scores):\n",
    "    # select two parents from the population based on the fitness - \n",
    "    # the better the fitness, the higher the chance to be selected\n",
    "    # IN:  population, fitness_scores\n",
    "    # OUT: selected_parents\n",
    "     # Calculate the total fitness score of the population\n",
    "    total_fitness = sum(fitness_scores)\n",
    "    \n",
    "    # Calculate the probability of selection for each individual\n",
    "    selection_probabilities = [fitness / total_fitness for fitness in fitness_scores]\n",
    "    \n",
    "    # Perform roulette wheel selection to choose two parents\n",
    "    selected_parents = []\n",
    "    for _ in range(2):\n",
    "        cumulative_probability = 0\n",
    "        random_value = random.random()\n",
    "        for i, probability in enumerate(selection_probabilities):\n",
    "            cumulative_probability += probability\n",
    "            if random_value <= cumulative_probability:\n",
    "                selected_parents.append(population[i])\n",
    "                break\n",
    "    return selected_parents\n",
    "    \n",
    "# Test the selection step\n",
    "parents = select_parents(population, fitness_scores)\n",
    "print(parents)"
   ]
  },
  {
   "attachments": {},
   "cell_type": "markdown",
   "metadata": {},
   "source": [
    "Exercise 5: Crossover\n",
    "\n",
    "Objective: Implement the crossover step of a genetic algorithm."
   ]
  },
  {
   "cell_type": "code",
   "execution_count": 6,
   "metadata": {},
   "outputs": [
    {
     "name": "stdout",
     "output_type": "stream",
     "text": [
      "[[0, 0, 1, 0, 1, 0, 0, 1], [1, 0, 1, 0, 1, 0, 1, 0]]\n"
     ]
    }
   ],
   "source": [
    "def crossover(parents):\n",
    "    # create two new offspring by combining the parents\n",
    "    # IN:  parents\n",
    "    # OUT: offspring\n",
    "\n",
    "    # your code here\n",
    "    parent1, parent2 = parents\n",
    "    \n",
    "    # Choose a random crossover point\n",
    "    crossover_point = random.randint(1, len(parent1) - 1)\n",
    "    \n",
    "    # Create the first offspring by combining the genetic material of parent1 and parent2\n",
    "    offspring1 = parent1[:crossover_point] + parent2[crossover_point:]\n",
    "    \n",
    "    # Create the second offspring by combining the genetic material of parent2 and parent1\n",
    "    offspring2 = parent2[:crossover_point] + parent1[crossover_point:]\n",
    "    \n",
    "    return [offspring1, offspring2]\n",
    "# Test the crossover step\n",
    "offspring = crossover(parents)\n",
    "print(offspring)\n"
   ]
  },
  {
   "attachments": {},
   "cell_type": "markdown",
   "metadata": {},
   "source": [
    "Exercise 6: Mutation\n",
    "\n",
    "Objective: Implement the mutation step of a genetic algorithm."
   ]
  },
  {
   "cell_type": "code",
   "execution_count": 7,
   "metadata": {},
   "outputs": [
    {
     "name": "stdout",
     "output_type": "stream",
     "text": [
      "[[1, 0, 1, 0, 1, 0, 0, 1], [1, 0, 1, 0, 1, 0, 0, 0]]\n"
     ]
    }
   ],
   "source": [
    "def mutate(chromosome, mutation_rate):\n",
    "    # mutate the chromosome by randomly flipping bits\n",
    "    # IN:  chromosome, mutation_rate\n",
    "    # OUT: mutated_chromosome\n",
    "\n",
    "    # your code here\n",
    "    mutated_chromosome = []\n",
    "    for bit in chromosome:\n",
    "        if random.random() < mutation_rate:\n",
    "            # Flip the bit with a probability equal to the mutation rate\n",
    "            mutated_bit = 1 - bit\n",
    "        else:\n",
    "            mutated_bit = bit\n",
    "        mutated_chromosome.append(mutated_bit)\n",
    "    \n",
    "    return mutated_chromosome\n",
    "\n",
    "# Test the mutation step\n",
    "mutation_rate = 0.1\n",
    "mutated_offspring = [mutate(child, mutation_rate) for child in offspring]\n",
    "print(mutated_offspring)\n"
   ]
  },
  {
   "attachments": {},
   "cell_type": "markdown",
   "metadata": {},
   "source": [
    "Exercise 7: Complete Genetic Algorithm\n",
    "\n",
    "Objective: Combine all the steps of a genetic algorithm to solve a specific problem."
   ]
  },
  {
   "cell_type": "code",
   "execution_count": 8,
   "metadata": {},
   "outputs": [
    {
     "name": "stdout",
     "output_type": "stream",
     "text": [
      "[10, 5, 8, 3, 12, 6, 4, 2]\n",
      "[2, 1, 3, 2, 4, 1, 2, 1]\n"
     ]
    }
   ],
   "source": [
    "print(values)\n",
    "print(volumes)"
   ]
  },
  {
   "cell_type": "code",
   "execution_count": 9,
   "metadata": {},
   "outputs": [
    {
     "name": "stdout",
     "output_type": "stream",
     "text": [
      "[[0, 1, 1, 0, 0, 0, 0, 1], [1, 1, 0, 0, 0, 0, 0, 1], [1, 1, 0, 0, 0, 0, 1, 1], [1, 0, 0, 0, 0, 1, 0, 0], [1, 1, 0, 0, 0, 1, 0, 1], [1, 1, 0, 1, 0, 1, 0, 1], [1, 1, 1, 0, 0, 0, 0, 1], [1, 1, 0, 0, 0, 0, 0, 1], [0, 1, 1, 1, 0, 0, 0, 1], [1, 1, 0, 0, 0, 0, 0, 1]]\n"
     ]
    }
   ],
   "source": [
    "def genetic_algorithm(population_size, chromosome_length, generations, mutation_rate, values, volumes, Vmax):\n",
    "    # complete genetic algorithm\n",
    "    # IN:  population_size, chromosome_length, generations, mutation_rate\n",
    "    # OUT: population\n",
    "\n",
    "    # initialize the population\n",
    "    # your code here\n",
    "    population = initialize_population(population_size, chromosome_length)\n",
    "\n",
    "    for _ in range(generations):\n",
    "        # Fitness evaluation\n",
    "        # your code here\n",
    "        fitness_scores = evaluate_fitness(population, values, volumes, Vmax)\n",
    "\n",
    "        # Crossover\n",
    "        # your code here\n",
    "        offspring = []\n",
    "        for i in range(population_size // 2):\n",
    "            # Selection\n",
    "            # your code here\n",
    "            parents = select_parents(population, fitness_scores)\n",
    "            child1, child2 = crossover(parents)\n",
    "            # Mutation\n",
    "            # your code here\n",
    "            child1 = mutate(child1, mutation_rate)\n",
    "            child2 = mutate(child2, mutation_rate)\n",
    "            offspring.extend([child1, child2])\n",
    "\n",
    "        # for i in range(len(offspring)):\n",
    "        #     offspring[i] = mutate(offspring[i], mutation_rate)\n",
    "\n",
    "        # Replace the population with the new generation\n",
    "        # your code here\n",
    "        population = offspring\n",
    "\n",
    "    return population\n",
    "\n",
    "# Test the complete genetic algorithm\n",
    "population_size = 10\n",
    "chromosome_length = 8\n",
    "generations = 100\n",
    "mutation_rate = 0.1\n",
    "\n",
    "values = [10, 5, 8, 3, 12, 6, 4, 2]\n",
    "volumes = [2, 1, 3, 2, 4, 1, 2, 1]\n",
    "Vmax = 10\n",
    "\n",
    "final_population = genetic_algorithm(population_size, chromosome_length, generations, mutation_rate, values, volumes, Vmax)\n",
    "print(final_population)"
   ]
  },
  {
   "attachments": {},
   "cell_type": "markdown",
   "metadata": {},
   "source": [
    "Exercise 8: Extract the result from the final population\n",
    "\n",
    "Objective: Get the best individual from the final population.\n"
   ]
  },
  {
   "cell_type": "code",
   "execution_count": 10,
   "metadata": {},
   "outputs": [
    {
     "name": "stdout",
     "output_type": "stream",
     "text": [
      "Best individual: [1, 1, 0, 1, 0, 1, 0, 1]\n"
     ]
    }
   ],
   "source": [
    "# determine the best individual from the final population and print it out\n",
    "\n",
    "# your code here\n",
    "def extract_best_individual(final_population, values, volumes, Vmax):\n",
    "    # Evaluate the fitness of each individual in the final population\n",
    "    fitness_scores = evaluate_fitness(final_population, values, volumes, Vmax)\n",
    "    # Find the index of the individual with the highest fitness score\n",
    "    best_index = fitness_scores.index(max(fitness_scores))\n",
    "    # Retrieve the best individual from the final population\n",
    "    best_individual = final_population[best_index]\n",
    "    return best_individual\n",
    "\n",
    "# Test the extraction of the best individual\n",
    "best_individual = extract_best_individual(final_population, values, volumes, Vmax)\n",
    "print(\"Best individual:\", best_individual)\n"
   ]
  },
  {
   "cell_type": "code",
   "execution_count": null,
   "metadata": {},
   "outputs": [],
   "source": []
  }
 ],
 "metadata": {
  "kernel_info": {
   "name": "python"
  },
  "kernelspec": {
   "display_name": "Python 3 (ipykernel)",
   "language": "python",
   "name": "python3"
  },
  "language_info": {
   "codemirror_mode": {
    "name": "ipython",
    "version": 3
   },
   "file_extension": ".py",
   "mimetype": "text/x-python",
   "name": "python",
   "nbconvert_exporter": "python",
   "pygments_lexer": "ipython3",
   "version": "3.11.8"
  },
  "nteract": {
   "version": "nteract-front-end@1.0.0"
  }
 },
 "nbformat": 4,
 "nbformat_minor": 4
}
